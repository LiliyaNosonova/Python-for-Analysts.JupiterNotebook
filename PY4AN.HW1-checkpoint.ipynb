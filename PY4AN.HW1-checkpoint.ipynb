{
 "cells": [
  {
   "cell_type": "markdown",
   "id": "38a26a43",
   "metadata": {},
   "source": [
    "## Условие 1:"
   ]
  },
  {
   "cell_type": "markdown",
   "id": "fb6c021d",
   "metadata": {},
   "source": [
    "Оформляйте ноутбук, используя эти советы:\n",
    "Номер задачи - заголовок 2\n",
    "Номер подзадачи - заголовок 3\n",
    "Предоставленные наборы данных оформляйте, как код\n",
    "Рекомендации для преподавателей по оценке задания:\n",
    "Смотреть, чтобы студент красиво оформлял ноутбук, использовал ячейки с текстом, указывал номера заданий"
   ]
  },
  {
   "cell_type": "markdown",
   "id": "7ab675a2",
   "metadata": {},
   "source": [
    "## Условие 2"
   ]
  },
  {
   "cell_type": "markdown",
   "id": "ec7b1a9d",
   "metadata": {},
   "source": [
    "На складе лежат разные фрукты в разном количестве.\n",
    "Нужно написать функцию, которая на вход принимает любое количество названий фруктов и их количество, а возвращает общее количество фруктов на складе(решить при помощи kwargs)"
   ]
  },
  {
   "cell_type": "markdown",
   "id": "2adab459",
   "metadata": {},
   "source": [
    "### Вариант 1"
   ]
  },
  {
   "cell_type": "code",
   "execution_count": 136,
   "id": "b7c9a3c5",
   "metadata": {},
   "outputs": [
    {
     "name": "stdout",
     "output_type": "stream",
     "text": [
      "55\n"
     ]
    }
   ],
   "source": [
    "warehouse = {'apple': 10, 'plum': 15, 'lemon': 30}\n",
    "sum_fruits = sum(warehouse.values())\n",
    "print (sum_fruits)"
   ]
  },
  {
   "cell_type": "markdown",
   "id": "1eeed091",
   "metadata": {},
   "source": [
    "### Вариант 2"
   ]
  },
  {
   "cell_type": "code",
   "execution_count": 137,
   "id": "695a0d0e",
   "metadata": {},
   "outputs": [],
   "source": [
    "warehouse = {'apple': 10,\n",
    "        'plum': 15,\n",
    "        'limon': 30}"
   ]
  },
  {
   "cell_type": "code",
   "execution_count": 138,
   "id": "cbe2f708",
   "metadata": {},
   "outputs": [],
   "source": [
    "def sum_fruits (**kwargs):\n",
    "    for title, value in kwargs.items():\n",
    "        return sum(kwargs.values())        "
   ]
  },
  {
   "cell_type": "code",
   "execution_count": 139,
   "id": "ddb3bfbe",
   "metadata": {},
   "outputs": [
    {
     "data": {
      "text/plain": [
       "55"
      ]
     },
     "execution_count": 139,
     "metadata": {},
     "output_type": "execute_result"
    }
   ],
   "source": [
    "sum_fruits(**warehouse)"
   ]
  },
  {
   "cell_type": "markdown",
   "id": "be45de52",
   "metadata": {},
   "source": [
    "### Вариант 3"
   ]
  },
  {
   "cell_type": "code",
   "execution_count": 140,
   "id": "5285154b",
   "metadata": {},
   "outputs": [],
   "source": [
    "def sum_fruits(**kwargs):\n",
    "    for title, value in kwargs.items():\n",
    "       return sum(kwargs.values())"
   ]
  },
  {
   "cell_type": "code",
   "execution_count": 141,
   "id": "b083af99",
   "metadata": {},
   "outputs": [
    {
     "data": {
      "text/plain": [
       "55"
      ]
     },
     "execution_count": 141,
     "metadata": {},
     "output_type": "execute_result"
    }
   ],
   "source": [
    "sum_fruits(apple = 10, plum = 15, lemon = 30)"
   ]
  },
  {
   "cell_type": "markdown",
   "id": "82b3f22e",
   "metadata": {},
   "source": [
    "### Вариант 4 - не запустился((("
   ]
  },
  {
   "cell_type": "code",
   "execution_count": 132,
   "id": "57b8678a",
   "metadata": {},
   "outputs": [],
   "source": [
    "def warehouse(**kwargs):\n",
    "    for title, value in kwargs.items():\n",
    "        print(f'{title}: {value}')"
   ]
  },
  {
   "cell_type": "code",
   "execution_count": 133,
   "id": "41d4c8b2",
   "metadata": {},
   "outputs": [
    {
     "name": "stdout",
     "output_type": "stream",
     "text": [
      "apple: 10\n",
      "plum: 15\n",
      "lemon: 30\n"
     ]
    }
   ],
   "source": [
    "warehouse(apple = 10, plum = 15, lemon = 30)"
   ]
  },
  {
   "cell_type": "code",
   "execution_count": 134,
   "id": "23719c3c",
   "metadata": {},
   "outputs": [],
   "source": [
    "def sum_fruits (x):\n",
    "    return sum(x.values())"
   ]
  },
  {
   "cell_type": "code",
   "execution_count": 142,
   "id": "2db8c101",
   "metadata": {},
   "outputs": [
    {
     "ename": "TypeError",
     "evalue": "sum_fruits() takes 0 positional arguments but 1 was given",
     "output_type": "error",
     "traceback": [
      "\u001b[1;31m---------------------------------------------------------------------------\u001b[0m",
      "\u001b[1;31mTypeError\u001b[0m                                 Traceback (most recent call last)",
      "Cell \u001b[1;32mIn[142], line 1\u001b[0m\n\u001b[1;32m----> 1\u001b[0m \u001b[43msum_fruits\u001b[49m\u001b[43m \u001b[49m\u001b[43m(\u001b[49m\u001b[43mwarehouse\u001b[49m\u001b[43m)\u001b[49m\n",
      "\u001b[1;31mTypeError\u001b[0m: sum_fruits() takes 0 positional arguments but 1 was given"
     ]
    }
   ],
   "source": [
    "sum_fruits (warehouse)"
   ]
  },
  {
   "cell_type": "markdown",
   "id": "74f956dc",
   "metadata": {},
   "source": [
    "## Условие 3"
   ]
  },
  {
   "cell_type": "markdown",
   "id": "a27eda71",
   "metadata": {},
   "source": [
    "Дан список с затратами на рекламу. Но в данных есть ошибки, некоторые затраты имеют отрицательную величину. Удалите такие значения из списка и посчитайте суммарные затраты\n",
    "[100, 125, -90, 345, 655, -1, 0, 200]\n",
    "Используйте list comprehensions"
   ]
  },
  {
   "cell_type": "code",
   "execution_count": 149,
   "id": "ead9a857",
   "metadata": {},
   "outputs": [
    {
     "name": "stdout",
     "output_type": "stream",
     "text": [
      "1425\n"
     ]
    }
   ],
   "source": [
    "expenses = [100, 125, -90, 345, 655, -1, 0, 200]\n",
    "total = [i for i in expenses if i > 0] # пишем в новый список total только значения больше 0\n",
    "\n",
    "sum_total = 0\n",
    "for i in total:\n",
    "    sum_total += i\n",
    "print(sum_total)\n",
    "    "
   ]
  },
  {
   "cell_type": "code",
   "execution_count": 151,
   "id": "b497e3dd",
   "metadata": {},
   "outputs": [
    {
     "name": "stdout",
     "output_type": "stream",
     "text": [
      "1425\n"
     ]
    }
   ],
   "source": [
    "sum_total = sum(total)\n",
    "print(sum_total)"
   ]
  },
  {
   "cell_type": "code",
   "execution_count": 162,
   "id": "3de22faa",
   "metadata": {},
   "outputs": [
    {
     "name": "stdout",
     "output_type": "stream",
     "text": [
      "1425\n"
     ]
    }
   ],
   "source": [
    "total = [print(sum(i for i in expenses if i > 0))]"
   ]
  },
  {
   "cell_type": "markdown",
   "id": "ccf1a251",
   "metadata": {},
   "source": [
    "## Условие 4"
   ]
  },
  {
   "cell_type": "markdown",
   "id": "711f0f15",
   "metadata": {},
   "source": [
    "Даны два списка.\n",
    "Дата покупки\n",
    "['2021-09-14', '2021-12-15', '2021-09-08', '2021-12-05', '2021-10-09', '2021-09-30', '2021-12-22', '2021-11-29', '2021-12-24', '2021-11-26', '2021-10-27', '2021-12-18', '2021-11-09', '2021-11-23', '2021-09-27', '2021-10-02', '2021-12-27', '2021-09-20', '2021-12-13', '2021-11-01', '2021-11-09', '2021-12-06', '2021-12-08', '2021-10-09', '2021-10-31', '2021-09-30', '2021-11-09', '2021-12-13', '2021-10-26', '2021-12-09']\n",
    "Суммы покупок по датам\n",
    "[1270, 8413, 9028, 3703, 5739, 4095, 295, 4944, 5723, 3701, 4471, 651, 7037, 4274, 6275, 4988, 6930, 2971, 6592, 2004, 2822, 519, 3406, 2732, 5015, 2008, 316, 6333, 5700, 2887]"
   ]
  },
  {
   "cell_type": "markdown",
   "id": "009849f7",
   "metadata": {},
   "source": [
    "Найдите, какая выручка у компании в ноябре\n",
    "Используйте list comprehensions"
   ]
  },
  {
   "cell_type": "code",
   "execution_count": 159,
   "id": "c0f6aaba",
   "metadata": {},
   "outputs": [],
   "source": [
    "date = ['2021-09-14', '2021-12-15', '2021-09-08', '2021-12-05', '2021-10-09', \n",
    "        '2021-09-30', '2021-12-22', '2021-11-29', '2021-12-24', '2021-11-26',\n",
    "        '2021-10-27', '2021-12-18', '2021-11-09', '2021-11-23', '2021-09-27', \n",
    "        '2021-10-02', '2021-12-27', '2021-09-20', '2021-12-13', '2021-11-01', \n",
    "        '2021-11-09', '2021-12-06', '2021-12-08', '2021-10-09', '2021-10-31', \n",
    "        '2021-09-30', '2021-11-09', '2021-12-13', '2021-10-26', '2021-12-09']\n",
    "\n",
    "cost = [1270, 8413, 9028, 3703, 5739,\n",
    "        4095, 295, 4944, 5723, 3701, \n",
    "        4471, 651, 7037, 4274, 6275, \n",
    "        4988, 6930, 2971, 6592, 2004, \n",
    "        2822, 519, 3406, 2732, 5015, \n",
    "        2008, 316, 6333, 5700, 2887]"
   ]
  },
  {
   "cell_type": "code",
   "execution_count": 208,
   "id": "9128473b",
   "metadata": {},
   "outputs": [
    {
     "data": {
      "text/plain": [
       "25098"
      ]
     },
     "execution_count": 208,
     "metadata": {},
     "output_type": "execute_result"
    }
   ],
   "source": [
    "sum(cost[i] for i in range(len(date)) if date[i].split('-')[1] == '11')"
   ]
  }
 ],
 "metadata": {
  "kernelspec": {
   "display_name": "Python 3 (ipykernel)",
   "language": "python",
   "name": "python3"
  },
  "language_info": {
   "codemirror_mode": {
    "name": "ipython",
    "version": 3
   },
   "file_extension": ".py",
   "mimetype": "text/x-python",
   "name": "python",
   "nbconvert_exporter": "python",
   "pygments_lexer": "ipython3",
   "version": "3.10.9"
  }
 },
 "nbformat": 4,
 "nbformat_minor": 5
}
